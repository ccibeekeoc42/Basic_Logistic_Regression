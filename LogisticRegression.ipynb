{
  "nbformat": 4,
  "nbformat_minor": 0,
  "metadata": {
    "colab": {
      "provenance": [],
      "collapsed_sections": []
    },
    "kernelspec": {
      "name": "python3",
      "display_name": "Python 3"
    },
    "language_info": {
      "name": "python"
    }
  },
  "cells": [
    {
      "cell_type": "markdown",
      "source": [
        "#### Preparing our dataset"
      ],
      "metadata": {
        "id": "26p4o0MpZpbB"
      }
    },
    {
      "cell_type": "code",
      "source": [
        "import numpy as np\n",
        "from sklearn import datasets\n",
        "from sklearn.model_selection import train_test_split\n",
        "import matplotlib.pyplot as plt\n",
        "\n",
        "data = datasets.load_breast_cancer()\n",
        "X, y = data.data, data.target\n",
        "X_train, X_test, y_train, y_test = train_test_split(X, y, test_size=0.2, random_state=1234)"
      ],
      "metadata": {
        "id": "9wbj4c5VZoq9"
      },
      "execution_count": 43,
      "outputs": []
    },
    {
      "cell_type": "markdown",
      "source": [
        "#### Implementing the Logistic Regression logic"
      ],
      "metadata": {
        "id": "5U0tjtgZV0Z1"
      }
    },
    {
      "cell_type": "code",
      "source": [
        "def sigmoid(x):\n",
        "  return 1/(1 + np.exp(-x))\n",
        "\n",
        "class LogisticRegression():\n",
        "  '''Implementing the Logistic Regression algorithm.'''\n",
        "  def __init__(self, lr=0.01, n_iters=1000):\n",
        "    self.lr = lr\n",
        "    self.n_iters = n_iters\n",
        "    self.weights = None\n",
        "    self.bias = None\n",
        "\n",
        "  def fit(self, X, y):\n",
        "    '''training the dataset'''\n",
        "    # initializing the weights and bias\n",
        "    n_samples, n_features = X.shape\n",
        "    self.weights = np.random.rand(n_features)\n",
        "    self.bias = 0\n",
        "\n",
        "    # learning Weights\n",
        "    for _ in range(self.n_iters):\n",
        "      linear_pred = np.dot(X, self.weights) + self.bias\n",
        "      y_pred = sigmoid(linear_pred)\n",
        "      dw = (2/n_samples)* np.dot(X.T, (y - y_pred))\n",
        "      db = (2/n_samples)* np.sum(y - y_pred)\n",
        "\n",
        "      self.weights += self.lr * dw\n",
        "      self.bias += self.lr * db\n",
        "\n",
        "  def predict(self, X):\n",
        "    '''predicting for the dataset'''\n",
        "    y_pred =  sigmoid(np.dot(X, self.weights) + self.bias)\n",
        "    Y_pred_class = [1 if y > 0.5 else 0 for y in y_pred]\n",
        "    return Y_pred_class"
      ],
      "metadata": {
        "id": "-NCb_8mrFhRs"
      },
      "execution_count": 44,
      "outputs": []
    },
    {
      "cell_type": "markdown",
      "source": [
        "#### Testing the Logistic Regressor"
      ],
      "metadata": {
        "id": "VaRdwxgPV6If"
      }
    },
    {
      "cell_type": "code",
      "source": [
        "def accuracy(y_true, y_pred):\n",
        "  return np.sum(y_true == y_pred) / len(y_true)\n",
        "\n",
        "regressor = LogisticRegression(lr=0.001, n_iters=1000)\n",
        "regressor.fit(X_train, y_train)\n",
        "y_pred = regressor.predict(X_test)\n",
        "\n",
        "print(\"Logistic Regression classification accuracy: \", round(accuracy(y_test, y_pred), 2))"
      ],
      "metadata": {
        "colab": {
          "base_uri": "https://localhost:8080/"
        },
        "id": "TdTQlxIqV-FG",
        "outputId": "c31fc797-a420-4954-e1d7-14c889221c7e"
      },
      "execution_count": 45,
      "outputs": [
        {
          "output_type": "stream",
          "name": "stdout",
          "text": [
            "Logistic Regression classification accuracy:  0.92\n"
          ]
        },
        {
          "output_type": "stream",
          "name": "stderr",
          "text": [
            "/usr/local/lib/python3.7/dist-packages/ipykernel_launcher.py:2: RuntimeWarning: overflow encountered in exp\n",
            "  \n"
          ]
        }
      ]
    },
    {
      "cell_type": "markdown",
      "source": [
        "###### Credits: https://www.youtube.com/watch?v=YYEJ_GUguHw"
      ],
      "metadata": {
        "id": "qjXr5J7wKb58"
      }
    }
  ]
}